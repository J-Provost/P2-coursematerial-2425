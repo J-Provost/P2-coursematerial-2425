{
 "cells": [
  {
   "cell_type": "markdown",
   "id": "c9dd6259",
   "metadata": {},
   "source": [
    "# 📊 Sales Data Analysis\n",
    "This notebook demonstrates data manipulation and visualization using **pandas**, **matplotlib.pyplot**, and **matplotlib.dates**."
   ]
  },
  {
   "cell_type": "code",
   "execution_count": null,
   "id": "41bb1883",
   "metadata": {},
   "outputs": [],
   "source": [
    "import pandas as pd\n",
    "import matplotlib.pyplot as plt\n",
    "import matplotlib.dates as mdates"
   ]
  },
  {
   "cell_type": "code",
   "execution_count": null,
   "id": "5569733c",
   "metadata": {},
   "outputs": [],
   "source": [
    "df = pd.read_csv('sales_data.csv', parse_dates=['Date'])\n",
    "df.head()"
   ]
  },
  {
   "cell_type": "code",
   "execution_count": null,
   "id": "086fe610",
   "metadata": {},
   "outputs": [],
   "source": [
    "df.info()"
   ]
  },
  {
   "cell_type": "code",
   "execution_count": null,
   "id": "1a1419e0",
   "metadata": {},
   "outputs": [],
   "source": [
    "df.describe()"
   ]
  },
  {
   "cell_type": "code",
   "execution_count": null,
   "id": "df1bd726",
   "metadata": {},
   "outputs": [],
   "source": [
    "revenue_by_product = df.groupby('Product')['Revenue'].sum().sort_values()\n",
    "revenue_by_product.plot(kind='barh', title='Total Revenue by Product', color='skyblue')\n",
    "plt.xlabel('Revenue')\n",
    "plt.tight_layout()\n",
    "plt.show()"
   ]
  },
  {
   "cell_type": "code",
   "execution_count": null,
   "id": "c63e2da1",
   "metadata": {},
   "outputs": [],
   "source": [
    "daily_revenue = df.groupby('Date')['Revenue'].sum()\n",
    "fig, ax = plt.subplots(figsize=(10, 5))\n",
    "ax.plot(daily_revenue.index, daily_revenue.values, label='Total Revenue')\n",
    "ax.set_title('Daily Revenue Trend')\n",
    "ax.set_xlabel('Date')\n",
    "ax.set_ylabel('Revenue')\n",
    "ax.xaxis.set_major_locator(mdates.MonthLocator())\n",
    "ax.xaxis.set_major_formatter(mdates.DateFormatter('%b %Y'))\n",
    "ax.tick_params(axis='x', rotation=45)\n",
    "ax.grid(True)\n",
    "plt.tight_layout()\n",
    "plt.legend()\n",
    "plt.show()"
   ]
  },
  {
   "cell_type": "code",
   "execution_count": null,
   "id": "54a371dc",
   "metadata": {},
   "outputs": [],
   "source": [
    "fig, ax = plt.subplots(figsize=(12, 6))\n",
    "for product in df['Product'].unique():\n",
    "    product_data = df[df['Product'] == product].groupby('Date')['Revenue'].sum()\n",
    "    ax.plot(product_data.index, product_data.values, label=product)\n",
    "ax.set_title('Revenue Over Time by Product')\n",
    "ax.set_xlabel('Date')\n",
    "ax.set_ylabel('Revenue')\n",
    "ax.xaxis.set_major_locator(mdates.MonthLocator())\n",
    "ax.xaxis.set_major_formatter(mdates.DateFormatter('%b %Y'))\n",
    "ax.tick_params(axis='x', rotation=45)\n",
    "ax.grid(True)\n",
    "plt.legend()\n",
    "plt.tight_layout()\n",
    "plt.show()"
   ]
  },
  {
   "cell_type": "markdown",
   "id": "f1637d84",
   "metadata": {},
   "source": [
    "## 🧹 Data Cleaning and Transformation"
   ]
  },
  {
   "cell_type": "code",
   "execution_count": null,
   "id": "b5561064",
   "metadata": {},
   "outputs": [],
   "source": [
    "# Check for missing values\n",
    "df.isna().sum()"
   ]
  },
  {
   "cell_type": "code",
   "execution_count": null,
   "id": "6bb3d128",
   "metadata": {},
   "outputs": [],
   "source": [
    "# Add a new column for weekday\n",
    "df['Weekday'] = df['Date'].dt.day_name()\n",
    "\n",
    "# Use .assign to add profit (example: assume fixed cost per unit)\n",
    "df = df.assign(CostPerUnit=20, Profit=lambda d: d['Revenue'] - d['CostPerUnit'] * d['Units Sold'])\n",
    "df.head()"
   ]
  },
  {
   "cell_type": "markdown",
   "id": "8af82bf2",
   "metadata": {},
   "source": [
    "## 📊 Aggregations and Pivot Tables"
   ]
  },
  {
   "cell_type": "code",
   "execution_count": null,
   "id": "a60d327f",
   "metadata": {},
   "outputs": [],
   "source": [
    "# Pivot table: Total Revenue by Product and Month\n",
    "df['Month'] = df['Date'].dt.to_period('M')\n",
    "pivot = df.pivot_table(values='Revenue', index='Month', columns='Product', aggfunc='sum')\n",
    "pivot"
   ]
  },
  {
   "cell_type": "code",
   "execution_count": null,
   "id": "d3f3e82d",
   "metadata": {},
   "outputs": [],
   "source": [
    "# Plot the pivot table\n",
    "pivot.plot(figsize=(10, 6), marker='o', title='Monthly Revenue by Product')\n",
    "plt.ylabel('Revenue')\n",
    "plt.xlabel('Month')\n",
    "plt.grid(True)\n",
    "plt.tight_layout()\n",
    "plt.show()"
   ]
  },
  {
   "cell_type": "markdown",
   "id": "c2168509",
   "metadata": {},
   "source": [
    "## 📈 Rolling Averages"
   ]
  },
  {
   "cell_type": "code",
   "execution_count": null,
   "id": "39eea172",
   "metadata": {},
   "outputs": [],
   "source": [
    "# Rolling average of revenue\n",
    "rolling_avg = df.groupby('Date')['Revenue'].sum().rolling(window=7).mean()\n",
    "rolling_avg.plot(figsize=(10, 5), title='7-Day Rolling Average of Revenue')\n",
    "plt.grid(True)\n",
    "plt.tight_layout()\n",
    "plt.show()"
   ]
  },
  {
   "cell_type": "markdown",
   "id": "b869de4f",
   "metadata": {},
   "source": [
    "## 🧮 Value Counts and Crosstab"
   ]
  },
  {
   "cell_type": "code",
   "execution_count": null,
   "id": "3baec25f",
   "metadata": {},
   "outputs": [],
   "source": [
    "# How often is each product sold per weekday?\n",
    "pd.crosstab(df['Weekday'], df['Product'])"
   ]
  },
  {
   "cell_type": "code",
   "execution_count": null,
   "id": "4d1b2838",
   "metadata": {},
   "outputs": [],
   "source": [
    "# Value counts for weekday sales frequency\n",
    "df['Weekday'].value_counts().sort_index()"
   ]
  }
 ],
 "metadata": {},
 "nbformat": 4,
 "nbformat_minor": 5
}
