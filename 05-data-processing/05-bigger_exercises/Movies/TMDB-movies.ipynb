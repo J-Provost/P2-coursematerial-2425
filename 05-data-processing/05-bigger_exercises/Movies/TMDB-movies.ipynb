{
 "cells": [
  {
   "cell_type": "markdown",
   "metadata": {},
   "source": [
    "# TMDB movies"
   ]
  },
  {
   "cell_type": "markdown",
   "metadata": {},
   "source": [
    "Load all the necessary packages"
   ]
  },
  {
   "cell_type": "code",
   "execution_count": null,
   "metadata": {},
   "outputs": [],
   "source": [
    "\n",
    "import pandas as pd\n",
    "import matplotlib.pyplot as plt\n",
    "import numpy as np\n"
   ]
  },
  {
   "cell_type": "markdown",
   "metadata": {},
   "source": [
    "The TMDB movies dataset contains detailed information about movies including ratings, financials, crew, cast, language, genres, and production details. \n",
    "\n",
    "### Loading the data\n",
    "\n",
    "Load the dataset into a DataFrame named `df_movies` and inspect the first rows of the DataFrame."
   ]
  },
  {
   "cell_type": "code",
   "execution_count": null,
   "metadata": {},
   "outputs": [],
   "source": ""
  },
  {
   "cell_type": "markdown",
   "metadata": {},
   "source": [
    "### Top movies in 2000"
   ]
  },
  {
   "cell_type": "markdown",
   "metadata": {},
   "source": [
    "Create a new DataFrame `df_2000` with all movies released in the year 2000. Inspect the amount of rows in the new DataFrame."
   ]
  },
  {
   "cell_type": "code",
   "execution_count": null,
   "metadata": {},
   "outputs": [],
   "source": ""
  },
  {
   "cell_type": "code",
   "execution_count": null,
   "metadata": {},
   "outputs": [],
   "source": []
  },
  {
   "cell_type": "markdown",
   "metadata": {},
   "source": [
    "Create a new DataFrame `df_topmovies` which only incorporates the rows with the movies of the year 2000 who get an average score of at least 9. Compare the total amount of rows of the original dataframe with these of df_topmovies."
   ]
  },
  {
   "cell_type": "code",
   "execution_count": null,
   "metadata": {},
   "outputs": [],
   "source": []
  },
  {
   "cell_type": "markdown",
   "metadata": {},
   "source": [
    "In `df_topmovies`, only include the movies with a valid release date and runtime."
   ]
  },
  {
   "cell_type": "code",
   "execution_count": null,
   "metadata": {},
   "outputs": [],
   "source": []
  },
  {
   "cell_type": "markdown",
   "metadata": {},
   "source": [
    "Add a column \"final_run\" displaying the last day the film was screened in theaters. "
   ]
  },
  {
   "cell_type": "code",
   "execution_count": null,
   "metadata": {},
   "outputs": [],
   "source": []
  },
  {
   "cell_type": "markdown",
   "metadata": {},
   "source": [
    "Show how many films were released each month using a barplot.\n",
    "* Use appropriate labels and titles\n",
    "* Change the ticks and tick labels so every month has a tick and as label the abbreviation of the month (Jan, Feb, March etc.)\n",
    "* Change the color of the graph\n",
    "* Show a grid\n",
    "* Show the legend"
   ]
  },
  {
   "cell_type": "code",
   "execution_count": null,
   "metadata": {},
   "outputs": [],
   "source": []
  },
  {
   "cell_type": "code",
   "execution_count": null,
   "metadata": {},
   "outputs": [],
   "source": []
  },
  {
   "cell_type": "markdown",
   "metadata": {},
   "source": [
    "### All movies"
   ]
  },
  {
   "cell_type": "markdown",
   "metadata": {},
   "source": [
    "For the following questions, work with the dataframe `df_movies`.\n",
    "\n",
    "Extract following information from the release date and store this in new columns:\n",
    "    day of the week, day of the month, month, year"
   ]
  },
  {
   "cell_type": "code",
   "execution_count": null,
   "metadata": {},
   "outputs": [],
   "source": []
  },
  {
   "cell_type": "markdown",
   "metadata": {},
   "source": [
    "Create a new column `profit`, derived from subtracting the budget from the revenue. Remove all rows which do not contain valid revenue or budget data. Also create a column with booleans indicating wheter a film `is_profitable` (profit >0) or not."
   ]
  },
  {
   "cell_type": "code",
   "execution_count": null,
   "metadata": {},
   "outputs": [],
   "source": []
  },
  {
   "cell_type": "markdown",
   "metadata": {},
   "source": [
    "**What are the top 10 most frequent genres?**\n",
    "\n",
    "We are looking for the individual values, not the unique entries of genre combinations. It should be clear that you will have to do some data manipulations in order to get the answer.\n",
    "\n",
    "To get you started: When analysing the video games dataset, we have seen a method to create separate rows (each with the same index) to represent multiple values of a column. This method takes a list-like object as argument. \n",
    "\n",
    "Tip: tackle this assignment step by step."
   ]
  },
  {
   "cell_type": "code",
   "execution_count": null,
   "metadata": {},
   "outputs": [],
   "source": []
  },
  {
   "cell_type": "code",
   "execution_count": null,
   "metadata": {},
   "outputs": [],
   "source": []
  },
  {
   "cell_type": "code",
   "execution_count": null,
   "metadata": {},
   "outputs": [],
   "source": []
  },
  {
   "cell_type": "code",
   "execution_count": null,
   "metadata": {},
   "outputs": [],
   "source": []
  },
  {
   "cell_type": "markdown",
   "metadata": {},
   "source": [
    "**Number of actors and budget**\n",
    "\n",
    "\n",
    "Plot the data so we can visually evaluate whether there seems a relation between the number of actors playing in a movie and the budget of the movie. Create a new_dataframe containing only the relevant columns. "
   ]
  },
  {
   "cell_type": "code",
   "execution_count": null,
   "metadata": {},
   "outputs": [],
   "source": []
  },
  {
   "cell_type": "code",
   "execution_count": null,
   "metadata": {},
   "outputs": [],
   "source": []
  },
  {
   "cell_type": "markdown",
   "metadata": {},
   "source": [
    "Create the same plot but now only containing the data of movies who's budget did not exceed 20 000 000."
   ]
  },
  {
   "cell_type": "code",
   "execution_count": null,
   "metadata": {},
   "outputs": [],
   "source": []
  },
  {
   "cell_type": "code",
   "execution_count": null,
   "metadata": {},
   "outputs": [],
   "source": []
  },
  {
   "cell_type": "markdown",
   "metadata": {},
   "source": [
    "**Votes**\n",
    "\n",
    "\n",
    "Show the total number of votes for the year with the most releases."
   ]
  },
  {
   "cell_type": "code",
   "execution_count": null,
   "metadata": {},
   "outputs": [],
   "source": []
  },
  {
   "cell_type": "code",
   "execution_count": null,
   "metadata": {},
   "outputs": [],
   "source": []
  },
  {
   "cell_type": "markdown",
   "metadata": {},
   "source": [
    "More exercises? Feel free to explore the dataset further."
   ]
  },
  {
   "metadata": {},
   "cell_type": "code",
   "outputs": [],
   "execution_count": null,
   "source": [
    "\n",
    "import pandas as pd\n",
    "import matplotlib.pyplot as plt\n",
    "import numpy as np\n",
    "\n",
    "\n",
    "df = pd.read_csv(\"TMDB-movies-small.csv\")\n",
    "df.head()\n",
    "\n",
    "\n",
    "\n",
    "df.info()\n",
    "\n",
    "\n",
    "\n",
    "df.isnull().sum()\n",
    "\n",
    "\n",
    "\n",
    "df = df.dropna(subset=['vote_average', 'vote_count'])\n",
    "\n",
    "\n",
    "\n",
    "top_movies = df[df['vote_count'] > 1000].sort_values(by='vote_average', ascending=False).head(10)\n",
    "top_movies[['title', 'vote_average', 'vote_count']]\n",
    "\n",
    "\n",
    "\n",
    "plt.figure(figsize=(10, 6))\n",
    "plt.barh(top_movies['title'], top_movies['vote_average'], color='skyblue')\n",
    "plt.xlabel('Average Vote')\n",
    "plt.title('Top 10 Highest Rated Movies (min 1000 votes)')\n",
    "plt.gca().invert_yaxis()\n",
    "plt.tight_layout()\n",
    "plt.show()\n",
    "\n",
    "\n",
    "\n",
    "plt.figure(figsize=(10, 6))\n",
    "plt.hist(df['runtime'].dropna(), bins=50, color='lightgreen', edgecolor='black')\n",
    "plt.xlabel('Runtime (minutes)')\n",
    "plt.ylabel('Number of Movies')\n",
    "plt.title('Distribution of Movie Runtimes')\n",
    "plt.show()\n",
    "\n",
    "\n",
    "\n",
    "df['release_date'] = pd.to_datetime(df['release_date'], errors='coerce')\n",
    "df['release_year'] = df['release_date'].dt.year\n",
    "release_counts = df['release_year'].value_counts().sort_index()\n",
    "\n",
    "plt.figure(figsize=(12, 6))\n",
    "plt.plot(release_counts.index, release_counts.values, color='steelblue')\n",
    "plt.xlabel('Year')\n",
    "plt.ylabel('Number of Movies')\n",
    "plt.title('Movies Released Per Year')\n",
    "plt.grid(True)\n",
    "plt.show()\n",
    "\n",
    "\n",
    "\n",
    "plt.figure(figsize=(10, 6))\n",
    "plt.scatter(df['budget'], df['revenue'], alpha=0.5)\n",
    "plt.xscale('log')\n",
    "plt.yscale('log')\n",
    "plt.xlabel('Budget')\n",
    "plt.ylabel('Revenue')\n",
    "plt.title('Budget vs Revenue')\n",
    "plt.grid(True)\n",
    "plt.show()\n",
    "\n",
    "\n",
    "\n",
    "from collections import Counter\n",
    "from itertools import chain\n",
    "\n",
    "genre_series = df['genres'].dropna().apply(lambda x: x.split(', '))\n",
    "all_genres = list(chain.from_iterable(genre_series))\n",
    "genre_counts = Counter(all_genres)\n",
    "top_genres = genre_counts.most_common(10)\n",
    "\n",
    "genres, counts = zip(*top_genres)\n",
    "\n",
    "plt.figure(figsize=(12, 6))\n",
    "plt.barh(genres, counts, color='orange')\n",
    "plt.title('Top 10 Most Common Genres')\n",
    "plt.gca().invert_yaxis()\n",
    "plt.show()\n",
    "\n",
    "\n",
    "\n",
    "genre_avg_vote = []\n",
    "\n",
    "for genre in genre_counts:\n",
    "    genre_movies = df[df['genres'].str.contains(genre, na=False)]\n",
    "    genre_avg_vote.append((genre, genre_movies['vote_average'].mean()))\n",
    "\n",
    "genre_avg_vote.sort(key=lambda x: x[1], reverse=True)\n",
    "genres, avg_votes = zip(*genre_avg_vote[:10])\n",
    "\n",
    "plt.figure(figsize=(12, 6))\n",
    "plt.barh(genres, avg_votes, color='purple')\n",
    "plt.xlabel('Average Vote')\n",
    "plt.title('Top 10 Genres by Average Vote')\n",
    "plt.gca().invert_yaxis()\n",
    "plt.show()\n",
    "\n",
    "\n",
    "\n",
    "language_counts = df['original_language'].value_counts().head(10)\n",
    "\n",
    "plt.figure(figsize=(10, 6))\n",
    "plt.barh(language_counts.index, language_counts.values, color='teal')\n",
    "plt.xlabel('Number of Movies')\n",
    "plt.title('Top 10 Languages')\n",
    "plt.gca().invert_yaxis()\n",
    "plt.show()\n",
    "\n",
    "\n",
    "\n",
    "top_directors = df['director'].value_counts().drop('', errors='ignore').head(10)\n",
    "\n",
    "plt.figure(figsize=(10, 6))\n",
    "plt.barh(top_directors.index, top_directors.values, color='slateblue')\n",
    "plt.xlabel('Number of Movies')\n",
    "plt.title('Top 10 Directors')\n",
    "plt.gca().invert_yaxis()\n",
    "plt.show()\n",
    "\n",
    "\n",
    "\n",
    "correlation = df[['vote_average', 'vote_count', 'budget', 'revenue', 'popularity']].corr()\n",
    "\n",
    "plt.figure(figsize=(8, 6))\n",
    "plt.imshow(correlation, cmap='coolwarm', interpolation='none')\n",
    "plt.colorbar()\n",
    "plt.xticks(range(len(correlation)), correlation.columns, rotation=45)\n",
    "plt.yticks(range(len(correlation)), correlation.columns)\n",
    "plt.title('Correlation Between Features')\n",
    "plt.show()\n",
    "\n",
    "\n",
    "\n",
    "revenue_by_year = df.groupby('release_year')['revenue'].mean()\n",
    "\n",
    "plt.figure(figsize=(12, 6))\n",
    "plt.plot(revenue_by_year.index, revenue_by_year.values, color='darkred')\n",
    "plt.xlabel('Year')\n",
    "plt.ylabel('Average Revenue')\n",
    "plt.title('Average Revenue Per Year')\n",
    "plt.grid(True)\n",
    "plt.show()\n",
    "\n",
    "\n",
    "\n",
    "plt.figure(figsize=(10, 6))\n",
    "plt.scatter(df['vote_count'], df['popularity'], alpha=0.5, color='darkgreen')\n",
    "plt.xscale('log')\n",
    "plt.yscale('log')\n",
    "plt.xlabel('Vote Count')\n",
    "plt.ylabel('Popularity')\n",
    "plt.title('Vote Count vs Popularity')\n",
    "plt.grid(True)\n",
    "plt.show()\n",
    "\n",
    "\n",
    "\n",
    "avg_rev = []\n",
    "for genre in genre_counts:\n",
    "    genre_movies = df[df['genres'].str.contains(genre, na=False)]\n",
    "    avg_rev.append((genre, genre_movies['revenue'].mean()))\n",
    "\n",
    "avg_rev.sort(key=lambda x: x[1] if not pd.isna(x[1]) else 0, reverse=True)\n",
    "genres, revenues = zip(*avg_rev[:10])\n",
    "\n",
    "plt.figure(figsize=(12, 6))\n",
    "plt.barh(genres, revenues, color='gold')\n",
    "plt.xlabel('Average Revenue')\n",
    "plt.title('Top 10 Genres by Avg Revenue')\n",
    "plt.gca().invert_yaxis()\n",
    "plt.show()\n",
    "\n",
    "\n",
    "\n",
    "avg_runtime = []\n",
    "for genre in genre_counts:\n",
    "    genre_movies = df[df['genres'].str.contains(genre, na=False)]\n",
    "    avg_runtime.append((genre, genre_movies['runtime'].mean()))\n",
    "\n",
    "avg_runtime.sort(key=lambda x: x[1] if not pd.isna(x[1]) else 0, reverse=True)\n",
    "genres, runtimes = zip(*avg_runtime[:10])\n",
    "\n",
    "plt.figure(figsize=(12, 6))\n",
    "plt.barh(genres, runtimes, color='coral')\n",
    "plt.xlabel('Average Runtime')\n",
    "plt.title('Top 10 Genres by Avg Runtime')\n",
    "plt.gca().invert_yaxis()\n",
    "plt.show()\n",
    "\n",
    "\n",
    "\n",
    "df['decade'] = (df['release_year'] // 10) * 10\n",
    "popular_decades = df.groupby('decade')['popularity'].mean().sort_index()\n",
    "\n",
    "plt.figure(figsize=(10, 6))\n",
    "plt.bar(popular_decades.index.astype(int), popular_decades.values, width=8, color='dodgerblue')\n",
    "plt.xlabel('Decade')\n",
    "plt.ylabel('Average Popularity')\n",
    "plt.title('Popularity by Decade')\n",
    "plt.show()\n",
    "\n",
    "\n",
    "\n",
    "df.describe(include='all')\n"
   ]
  }
 ],
 "metadata": {
  "kernelspec": {
   "display_name": "Python 3",
   "language": "python",
   "name": "python3"
  },
  "language_info": {
   "codemirror_mode": {
    "name": "ipython",
    "version": 3
   },
   "file_extension": ".py",
   "mimetype": "text/x-python",
   "name": "python",
   "nbconvert_exporter": "python",
   "pygments_lexer": "ipython3",
   "version": "3.12.0"
  }
 },
 "nbformat": 4,
 "nbformat_minor": 2
}
