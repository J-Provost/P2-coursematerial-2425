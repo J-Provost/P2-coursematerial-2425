{
 "cells": [
  {
   "cell_type": "markdown",
   "metadata": {},
   "source": [
    "# Customer booking data"
   ]
  },
  {
   "cell_type": "markdown",
   "metadata": {},
   "source": [
    "### Loading and inspecting\n",
    "Import the necessary packages\n"
   ]
  },
  {
   "cell_type": "code",
   "metadata": {
    "ExecuteTime": {
     "end_time": "2025-06-15T14:07:38.709336Z",
     "start_time": "2025-06-15T14:07:37.975843Z"
    }
   },
   "source": [
    "import pandas as pd\n",
    "import matplotlib.pyplot as plt\n"
   ],
   "outputs": [],
   "execution_count": 1
  },
  {
   "cell_type": "markdown",
   "metadata": {},
   "source": [
    "Load the customer_booking data in a DataFrame named `bookings` and show the first 5 rows to inspect the DataFrame."
   ]
  },
  {
   "cell_type": "code",
   "metadata": {
    "ExecuteTime": {
     "end_time": "2025-06-15T14:07:40.267520Z",
     "start_time": "2025-06-15T14:07:40.206635Z"
    }
   },
   "source": [
    "bookings = pd.read_csv('customer_booking.csv')\n",
    "print(bookings.head())"
   ],
   "outputs": [
    {
     "name": "stdout",
     "output_type": "stream",
     "text": [
      "   Unnamed: 0  num_passengers sales_channel  trip_type  purchase_lead  \\\n",
      "0           0               2      Internet  RoundTrip            262   \n",
      "1           1               1      Internet  RoundTrip            112   \n",
      "2           2               2      Internet  RoundTrip            243   \n",
      "3           3               1      Internet  RoundTrip             96   \n",
      "4           4               2      Internet  RoundTrip             68   \n",
      "\n",
      "   length_of_stay  flight_hour flight_day   route booking_origin  \\\n",
      "0              19            7        Sat  AKLDEL    New Zealand   \n",
      "1              20            3        Sat  AKLDEL    New Zealand   \n",
      "2              22           17        Wed  AKLDEL          India   \n",
      "3              31            4        Sat  AKLDEL    New Zealand   \n",
      "4              22           15        Wed  AKLDEL          India   \n",
      "\n",
      "   wants_extra_baggage  wants_preferred_seat  wants_in_flight_meals  \\\n",
      "0                    1                     0                      0   \n",
      "1                    0                     0                      0   \n",
      "2                    1                     1                      0   \n",
      "3                    0                     0                      1   \n",
      "4                    1                     0                      1   \n",
      "\n",
      "   flight_duration  booking_complete  \n",
      "0             5.52                 0  \n",
      "1             5.52                 0  \n",
      "2             5.52                 0  \n",
      "3             5.52                 0  \n",
      "4             5.52                 0  \n"
     ]
    }
   ],
   "execution_count": 2
  },
  {
   "cell_type": "markdown",
   "metadata": {},
   "source": [
    "**Information about the dataframe**\n",
    "  \n",
    "  \n",
    "This dataset contains information about airline bookings, including the number of passengers, sales channel, trip type, purchase lead time, length of stay, flight hour, flight day, route, booking origin, and various flags indicating if the customer wanted extra baggage, preferred seat, or in-flight meals. The dataset also includes the total flight duration and a flag indicating if the booking was completed. This information can be used for various analyses, such as predicting demand, identifying popular routes, and understanding customer preferences.\n",
    "\n",
    "**Column Description**:\n",
    "* num_passengers = number of passengers travelling\n",
    "* sales_channel = sales channel booking was made on\n",
    "* trip_type = trip Type (Round Trip, One Way, Circle Trip)\n",
    "* purchase_lead = number of days between travel date and booking date\n",
    "* length_of_stay = number of days spent at destination\n",
    "* flight_hour = hour of flight departure\n",
    "* flight_day = day of week of flight departure\n",
    "* route = origin -> destination flight route\n",
    "* booking_origin = country from where booking was made\n",
    "* wants_extra_baggage = if the customer wanted extra baggage in the booking\n",
    "* wants_preferred_seat = if the customer wanted a preferred seat in the booking\n",
    "* wants_in_flight_meals = if the customer wanted in-flight meals in the booking\n",
    "* flight_duration = total duration of flight (in hours)\n",
    "* booking_complete = flag indicating if the customer completed the booking"
   ]
  },
  {
   "cell_type": "markdown",
   "metadata": {},
   "source": [
    "### Completed bookings"
   ]
  },
  {
   "cell_type": "markdown",
   "metadata": {},
   "source": [
    "Create a new dataframe named `completed_bookings`:\n",
    "* only containing following columns:  \n",
    "num_passengers, purchase_lead, length_of_stay, booking_origin, flight_duration and booking_complete\n",
    "* with only the rows where the booking is completed (1)\n"
   ]
  },
  {
   "cell_type": "code",
   "metadata": {
    "ExecuteTime": {
     "end_time": "2025-06-15T14:09:20.722359Z",
     "start_time": "2025-06-15T14:09:20.711749Z"
    }
   },
   "source": [
    "# Select relevant columns and filter for completed bookings\n",
    "completed_bookings = bookings.loc[\n",
    "    bookings['booking_complete'] == 1,\n",
    "    ['num_passengers', 'purchase_lead', 'length_of_stay', 'booking_origin', 'flight_duration', 'booking_complete']\n",
    "]\n",
    "print(completed_bookings.head())"
   ],
   "outputs": [
    {
     "name": "stdout",
     "output_type": "stream",
     "text": [
      "     num_passengers  purchase_lead  length_of_stay booking_origin  \\\n",
      "82                1             15              31       Malaysia   \n",
      "86                1            156              19       Malaysia   \n",
      "94                1            181              87      Singapore   \n",
      "109               1            127              17       Malaysia   \n",
      "122               1             42              17       Malaysia   \n",
      "\n",
      "     flight_duration  booking_complete  \n",
      "82              8.83                 1  \n",
      "86              8.83                 1  \n",
      "94              8.83                 1  \n",
      "109             8.83                 1  \n",
      "122             8.83                 1  \n"
     ]
    }
   ],
   "execution_count": 3
  },
  {
   "cell_type": "markdown",
   "metadata": {},
   "source": [
    "#### Average purchase lead"
   ]
  },
  {
   "cell_type": "markdown",
   "metadata": {},
   "source": [
    "Group the average days between booking date and traveling date per country of the booking. Display the countries with the lowest average of days between booking and traveling first and the ones with the most days last."
   ]
  },
  {
   "cell_type": "code",
   "metadata": {
    "ExecuteTime": {
     "end_time": "2025-06-15T14:10:03.902394Z",
     "start_time": "2025-06-15T14:10:03.886264Z"
    }
   },
   "source": [
    "avg_purchase_lead = completed_bookings.groupby('booking_origin')['purchase_lead'].mean().sort_values()\n",
    "print(avg_purchase_lead)"
   ],
   "outputs": [
    {
     "name": "stdout",
     "output_type": "stream",
     "text": [
      "booking_origin\n",
      "Czech Republic            3.000000\n",
      "Vanuatu                  11.000000\n",
      "Sweden                   12.600000\n",
      "Bahrain                  16.000000\n",
      "Greece                   16.000000\n",
      "Kenya                    19.000000\n",
      "Kuwait                   23.500000\n",
      "Oman                     24.666667\n",
      "United Arab Emirates     36.000000\n",
      "Laos                     40.166667\n",
      "Taiwan                   49.093750\n",
      "Russia                   53.666667\n",
      "Brunei                   53.951220\n",
      "Spain                    55.000000\n",
      "Pakistan                 55.000000\n",
      "Cambodia                 55.250000\n",
      "Seychelles               56.000000\n",
      "Romania                  56.000000\n",
      "Saudi Arabia             58.909091\n",
      "Mexico                   59.000000\n",
      "Macau                    59.147368\n",
      "Vietnam                  59.315789\n",
      "Australia                59.986667\n",
      "Myanmar (Burma)          62.000000\n",
      "(not set)                62.000000\n",
      "United Kingdom           63.142857\n",
      "Japan                    65.554393\n",
      "Mauritius                66.750000\n",
      "France                   66.928571\n",
      "Portugal                 67.000000\n",
      "Philippines              68.026667\n",
      "Nepal                    68.333333\n",
      "Singapore                69.899666\n",
      "India                    70.847328\n",
      "Italy                    71.181818\n",
      "Hong Kong                71.575342\n",
      "Turkey                   72.000000\n",
      "China                    79.152738\n",
      "Canada                   82.000000\n",
      "South Korea              82.006494\n",
      "United States            84.154762\n",
      "Malaysia                 86.120340\n",
      "Chile                    87.000000\n",
      "New Zealand              92.333333\n",
      "Qatar                    92.400000\n",
      "Germany                  92.500000\n",
      "Iraq                     97.000000\n",
      "Denmark                 100.000000\n",
      "Netherlands             102.500000\n",
      "Sri Lanka               103.000000\n",
      "Indonesia               106.894309\n",
      "Thailand                109.840426\n",
      "Norway                  120.000000\n",
      "Bangladesh              122.500000\n",
      "Kazakhstan              130.000000\n",
      "Switzerland             143.333333\n",
      "Belgium                 299.000000\n",
      "Runion                 307.000000\n",
      "Name: purchase_lead, dtype: float64\n"
     ]
    }
   ],
   "execution_count": 4
  },
  {
   "cell_type": "markdown",
   "metadata": {},
   "source": [
    "Display the average amount of days between booking date and flight date of Australia."
   ]
  },
  {
   "cell_type": "code",
   "metadata": {
    "ExecuteTime": {
     "end_time": "2025-06-15T14:26:18.387845Z",
     "start_time": "2025-06-15T14:26:18.383303Z"
    }
   },
   "source": [
    "australia_avg_lead = avg_purchase_lead.loc['Australia']\n",
    "print(f\"Average purchase lead for Australia: {australia_avg_lead:.2f} days\")"
   ],
   "outputs": [
    {
     "name": "stdout",
     "output_type": "stream",
     "text": [
      "Average purchase lead for Australia: 59.99 days\n"
     ]
    }
   ],
   "execution_count": 11
  },
  {
   "cell_type": "markdown",
   "metadata": {},
   "source": [
    "## Purchase lead histogram\n",
    "Make a histogram (bar plot) of the purchase leads per country. Do this for the 5 countries with the most bookings. Place the purchase leads on the x-axis and the number of bookings on the y-axis. Use appropriate labels and show a legend.\n",
    "\n",
    "**step 1** find the 5 countries with the most bookings and store them in a variable `countries`."
   ]
  },
  {
   "cell_type": "code",
   "metadata": {
    "ExecuteTime": {
     "end_time": "2025-06-15T14:26:37.462407Z",
     "start_time": "2025-06-15T14:26:37.455769Z"
    }
   },
   "source": [
    "countries = bookings['booking_origin'].value_counts().head(5).index.tolist()\n",
    "print(countries)"
   ],
   "outputs": [
    {
     "name": "stdout",
     "output_type": "stream",
     "text": [
      "['Australia', 'Malaysia', 'South Korea', 'Japan', 'China']\n"
     ]
    }
   ],
   "execution_count": 12
  },
  {
   "cell_type": "markdown",
   "metadata": {},
   "source": [
    "**step 2** Create a barplot for every country. Ensure you use appropriate labels and a legend."
   ]
  },
  {
   "cell_type": "code",
   "metadata": {
    "ExecuteTime": {
     "end_time": "2025-06-15T14:27:01.951377Z",
     "start_time": "2025-06-15T14:27:01.698537Z"
    }
   },
   "source": [
    "for country in countries:\n",
    "    subset = bookings[bookings['booking_origin'] == country]\n",
    "    plt.hist(subset['purchase_lead'], bins=30, alpha=0.5, label=country)\n",
    "plt.xlabel('Purchase Lead (days)')\n",
    "plt.ylabel('Number of Bookings')\n",
    "plt.title('Purchase Lead Distribution (Top 5 Countries)')\n",
    "plt.legend()\n",
    "plt.show()"
   ],
   "outputs": [
    {
     "data": {
      "text/plain": [
       "<Figure size 640x480 with 1 Axes>"
      ],
      "image/png": "[encoded data removed]"
     },
     "metadata": {},
     "output_type": "display_data"
    }
   ],
   "execution_count": 13
  },
  {
   "cell_type": "markdown",
   "metadata": {},
   "source": [
    "The graph above is not really practical. First of all,  all the bins are very small so it is hard to read. Besides, bars with the same x-value are drawn on top of each other. This causes some bars to be invisible. Furthermore, we have a wide x-axis range with just a few data points above 500.\n",
    "Let's try to make a cleaner graph.\n",
    "\n",
    "## Try again\n",
    "**Assignment**\n",
    "Make a new histogram (bar plot) of the categorical purchase leads per country. Do this for the 5 countries with the most bookings. Place the purchase leads categories on the x-axis and the number of bookings on the y-axis. Use appropriate labels and show a legend.\n",
    "### Categorizing purchase leads\n",
    "\n",
    "Let's first categorize the purchase leads using following categories:\n",
    "purchase lead\n",
    "* more than 365 days before departure --> early bird\n",
    "* 365 days or less in advance but more than 183 days in advance --> planner\n",
    "* Booked more than 90 days prior to departure but at most 183 prior to departure --> seasonal booker\n",
    "* Booked at most 90 days in advance --> late booker\n",
    "* less than 2 weeks in advance --> last minute\n"
   ]
  },
  {
   "cell_type": "code",
   "execution_count": null,
   "metadata": {},
   "outputs": [],
   "source": []
  },
  {
   "cell_type": "markdown",
   "metadata": {},
   "source": [
    "Add a new column \"purchase_lead_category\" in the completed_bookings dataframe containing the corresponding categories."
   ]
  },
  {
   "cell_type": "code",
   "metadata": {
    "ExecuteTime": {
     "end_time": "2025-06-15T14:28:51.774893Z",
     "start_time": "2025-06-15T14:28:51.769358Z"
    }
   },
   "source": [
    "def categorize_lead(days):\n",
    "    if days < 14:\n",
    "        return 'last minute'\n",
    "    elif days <= 90:\n",
    "        return 'late booker'\n",
    "    elif days <= 183:\n",
    "        return 'seasonal booker'\n",
    "    elif days <= 365:\n",
    "        return 'planner'\n",
    "    else:\n",
    "        return 'early bird'\n",
    "\n",
    "completed_bookings['purchase_lead_category'] = completed_bookings['purchase_lead'].apply(categorize_lead)"
   ],
   "outputs": [],
   "execution_count": 14
  },
  {
   "cell_type": "markdown",
   "metadata": {},
   "source": [
    "Store the distinct categories in a variable named `pl_categories`, ordered from \"last minute\" to \"early bird\"."
   ]
  },
  {
   "cell_type": "code",
   "metadata": {
    "ExecuteTime": {
     "end_time": "2025-06-15T14:28:56.940388Z",
     "start_time": "2025-06-15T14:28:56.937366Z"
    }
   },
   "source": "pl_categories = ['last minute', 'late booker', 'seasonal booker', 'planner', 'early bird']",
   "outputs": [],
   "execution_count": 15
  },
  {
   "cell_type": "markdown",
   "metadata": {},
   "source": [
    "### Distinct dataframe top 5 \n",
    "Create a new dataframe `top_df` containing the data of the top 5 countries with the most bookings.\n",
    "\n",
    "Tip: use the variable `countries`which you already made."
   ]
  },
  {
   "cell_type": "code",
   "metadata": {
    "ExecuteTime": {
     "end_time": "2025-06-15T14:29:30.496263Z",
     "start_time": "2025-06-15T14:29:30.488729Z"
    }
   },
   "source": "top_df = completed_bookings[completed_bookings['booking_origin'].isin(countries)]",
   "outputs": [],
   "execution_count": 16
  },
  {
   "cell_type": "markdown",
   "metadata": {},
   "source": [
    "Display the total amount of purchase leads in every purchase_lead_category per country. Store this in a variable."
   ]
  },
  {
   "cell_type": "code",
   "metadata": {
    "ExecuteTime": {
     "end_time": "2025-06-15T14:29:44.194441Z",
     "start_time": "2025-06-15T14:29:44.182953Z"
    }
   },
   "source": [
    "lead_counts = top_df.groupby(['booking_origin', 'purchase_lead_category']).size().unstack(fill_value=0)[pl_categories]\n",
    "print(lead_counts)"
   ],
   "outputs": [
    {
     "name": "stdout",
     "output_type": "stream",
     "text": [
      "purchase_lead_category  last minute  late booker  seasonal booker  planner  \\\n",
      "booking_origin                                                               \n",
      "Australia                       219          502              114       61   \n",
      "China                            83          402              140       66   \n",
      "Japan                            95          286               62       31   \n",
      "Malaysia                        512         1148              408      354   \n",
      "South Korea                      75          245               79       51   \n",
      "\n",
      "purchase_lead_category  early bird  \n",
      "booking_origin                      \n",
      "Australia                        4  \n",
      "China                            3  \n",
      "Japan                            4  \n",
      "Malaysia                        46  \n",
      "South Korea                     12  \n"
     ]
    }
   ],
   "execution_count": 17
  },
  {
   "cell_type": "markdown",
   "metadata": {},
   "source": [
    "### Grouped bar plot\n",
    "We want to display the data for every country using grouped bar charts. In order to evenly display the bars, we have to set the locations of our bars.\n",
    "\n"
   ]
  },
  {
   "cell_type": "code",
   "metadata": {
    "ExecuteTime": {
     "end_time": "2025-06-15T14:33:42.259063Z",
     "start_time": "2025-06-15T14:33:42.122150Z"
    }
   },
   "source": [
    "import numpy as np\n",
    "\n",
    "x = np.arange(len(pl_categories))\n",
    "width = 0.15\n",
    "\n",
    "fig, ax = plt.subplots(figsize=(10,6))\n",
    "for i, country in enumerate(countries):\n",
    "    counts = lead_counts.loc[country]\n",
    "    ax.bar(x + i*width, counts, width, label=country)\n",
    "\n",
    "ax.set_xlabel('Purchase Lead Category')\n",
    "ax.set_ylabel('Number of Bookings')\n",
    "ax.set_title('Purchase Lead Category Distribution (Top 5 Countries)')\n",
    "ax.set_xticks(x + width*2)\n",
    "ax.set_xticklabels(pl_categories, rotation=30)\n",
    "ax.legend()\n",
    "plt.tight_layout()\n",
    "plt.show()"
   ],
   "outputs": [
    {
     "data": {
      "text/plain": [
       "<Figure size 1000x600 with 1 Axes>"
      ],
      "image/png": "[encoded data removed]"
     },
     "metadata": {},
     "output_type": "display_data"
    }
   ],
   "execution_count": 22
  },
  {
   "cell_type": "markdown",
   "metadata": {},
   "source": [
    "Now it is time for you to draw the plot. Keep in mind\n",
    "* Bars cannot overlap\n",
    "* The order of countries is preserved (meaning the order of countries is the same for all categories)\n",
    "* The order of the x value categories should be the same as the order stored in the list `pl_categories`\n",
    "* Ensure the counts per country are plotted in the right category (the order on the x-axis might not be the same as the order in your dataset)\n",
    "* Provide labels and a legend\n",
    "* Rotate the x-axis labels to make them readable"
   ]
  },
  {
   "cell_type": "code",
   "execution_count": null,
   "metadata": {},
   "outputs": [],
   "source": []
  },
  {
   "cell_type": "markdown",
   "metadata": {},
   "source": [
    "The image `PurchaseLeadCat_top5.png` displays the expected plot."
   ]
  },
  {
   "cell_type": "markdown",
   "metadata": {},
   "source": [
    "## Bookings"
   ]
  },
  {
   "cell_type": "markdown",
   "metadata": {},
   "source": [
    "For the questions below, work with the `bookings` dataframe.\n",
    "\n",
    "* Remove bookings with missing values\n",
    "* Create a new column `duration_cat` indicating whether a flight is \"Short\", \"Medium\" or \"Long\" distance. Short distance flights take at most 3 hours, long distance flights take more than 6 hours.\n",
    "* Create a new column `premium_customer`. A customer is a premium customer if they want extra baggage, preferred seating and in-flight meals. \n"
   ]
  },
  {
   "cell_type": "code",
   "execution_count": null,
   "metadata": {},
   "outputs": [],
   "source": []
  },
  {
   "cell_type": "code",
   "execution_count": null,
   "metadata": {},
   "outputs": [],
   "source": []
  },
  {
   "cell_type": "code",
   "execution_count": null,
   "metadata": {},
   "outputs": [],
   "source": []
  },
  {
   "cell_type": "markdown",
   "metadata": {},
   "source": [
    "* Display summary statistics\n",
    "* What percentage of bookings are completed vs incomplete?\n",
    "* Which sales channel has the highest percentage of completion?\n",
    "* What percentage of long distance travellers who completed their booking are premium customers? (You do not need to take into account the amount of travellers per booking.)\n",
    "* What are the top 5 most popular routes based on the number of passengers?\n",
    "* Display the average flight duration per country"
   ]
  },
  {
   "cell_type": "code",
   "metadata": {
    "ExecuteTime": {
     "end_time": "2025-06-15T14:22:56.365920Z",
     "start_time": "2025-06-15T14:22:56.304713Z"
    }
   },
   "source": [
    "# Summary statistics\n",
    "bookings_clean = bookings.dropna()\n",
    "print(bookings_clean.describe(include='all'))"
   ],
   "outputs": [
    {
     "name": "stdout",
     "output_type": "stream",
     "text": [
      "          Unnamed: 0  num_passengers sales_channel  trip_type  purchase_lead  \\\n",
      "count   50000.000000    50000.000000         50000      50000   50000.000000   \n",
      "unique           NaN             NaN             2          3            NaN   \n",
      "top              NaN             NaN      Internet  RoundTrip            NaN   \n",
      "freq             NaN             NaN         44382      49497            NaN   \n",
      "mean    24999.500000        1.591240           NaN        NaN      84.940480   \n",
      "std     14433.901067        1.020165           NaN        NaN      90.451378   \n",
      "min         0.000000        1.000000           NaN        NaN       0.000000   \n",
      "25%     12499.750000        1.000000           NaN        NaN      21.000000   \n",
      "50%     24999.500000        1.000000           NaN        NaN      51.000000   \n",
      "75%     37499.250000        2.000000           NaN        NaN     115.000000   \n",
      "max     49999.000000        9.000000           NaN        NaN     867.000000   \n",
      "\n",
      "        length_of_stay  flight_hour flight_day   route booking_origin  \\\n",
      "count      50000.00000  50000.00000      50000   50000          50000   \n",
      "unique             NaN          NaN          7     799            104   \n",
      "top                NaN          NaN        Mon  AKLKUL      Australia   \n",
      "freq               NaN          NaN       8102    2680          17872   \n",
      "mean          23.04456      9.06634        NaN     NaN            NaN   \n",
      "std           33.88767      5.41266        NaN     NaN            NaN   \n",
      "min            0.00000      0.00000        NaN     NaN            NaN   \n",
      "25%            5.00000      5.00000        NaN     NaN            NaN   \n",
      "50%           17.00000      9.00000        NaN     NaN            NaN   \n",
      "75%           28.00000     13.00000        NaN     NaN            NaN   \n",
      "max          778.00000     23.00000        NaN     NaN            NaN   \n",
      "\n",
      "        wants_extra_baggage  wants_preferred_seat  wants_in_flight_meals  \\\n",
      "count          50000.000000          50000.000000           50000.000000   \n",
      "unique                  NaN                   NaN                    NaN   \n",
      "top                     NaN                   NaN                    NaN   \n",
      "freq                    NaN                   NaN                    NaN   \n",
      "mean               0.668780              0.296960               0.427140   \n",
      "std                0.470657              0.456923               0.494668   \n",
      "min                0.000000              0.000000               0.000000   \n",
      "25%                0.000000              0.000000               0.000000   \n",
      "50%                1.000000              0.000000               0.000000   \n",
      "75%                1.000000              1.000000               1.000000   \n",
      "max                1.000000              1.000000               1.000000   \n",
      "\n",
      "        flight_duration  booking_complete  \n",
      "count      50000.000000      50000.000000  \n",
      "unique              NaN               NaN  \n",
      "top                 NaN               NaN  \n",
      "freq                NaN               NaN  \n",
      "mean           7.277561          0.149560  \n",
      "std            1.496863          0.356643  \n",
      "min            4.670000          0.000000  \n",
      "25%            5.620000          0.000000  \n",
      "50%            7.570000          0.000000  \n",
      "75%            8.830000          0.000000  \n",
      "max            9.500000          1.000000  \n"
     ]
    }
   ],
   "execution_count": 5
  },
  {
   "cell_type": "code",
   "metadata": {
    "ExecuteTime": {
     "end_time": "2025-06-15T14:23:09.793565Z",
     "start_time": "2025-06-15T14:23:09.787606Z"
    }
   },
   "source": [
    "# Percentage completed vs incomplete\n",
    "completed_pct = bookings_clean['booking_complete'].value_counts(normalize=True) * 100\n",
    "print(completed_pct)"
   ],
   "outputs": [
    {
     "name": "stdout",
     "output_type": "stream",
     "text": [
      "booking_complete\n",
      "0    85.044\n",
      "1    14.956\n",
      "Name: proportion, dtype: float64\n"
     ]
    }
   ],
   "execution_count": 6
  },
  {
   "cell_type": "code",
   "metadata": {
    "ExecuteTime": {
     "end_time": "2025-06-15T14:23:43.415086Z",
     "start_time": "2025-06-15T14:23:43.407512Z"
    }
   },
   "source": [
    "# Percentage of completion per sales channel\n",
    "completion_by_channel = bookings_clean.groupby('sales_channel')['booking_complete'].mean() * 100\n",
    "print(completion_by_channel)"
   ],
   "outputs": [
    {
     "name": "stdout",
     "output_type": "stream",
     "text": [
      "sales_channel\n",
      "Internet    15.476995\n",
      "Mobile      10.840157\n",
      "Name: booking_complete, dtype: float64\n"
     ]
    }
   ],
   "execution_count": 7
  },
  {
   "cell_type": "code",
   "metadata": {
    "ExecuteTime": {
     "end_time": "2025-06-15T14:23:49.962790Z",
     "start_time": "2025-06-15T14:23:49.947546Z"
    }
   },
   "source": [
    "# Premium customers long distance\n",
    "# Add premium_customer column\n",
    "bookings_clean['premium_customer'] = (\n",
    "    bookings_clean['wants_extra_baggage'] &\n",
    "    bookings_clean['wants_preferred_seat'] &\n",
    "    bookings_clean['wants_in_flight_meals']\n",
    ")\n",
    "\n",
    "# Add duration_cat column\n",
    "bookings_clean['duration_cat'] = pd.cut(\n",
    "    bookings_clean['flight_duration'],\n",
    "    bins=[-float('inf'), 3, 6, float('inf')],\n",
    "    labels=['Short', 'Medium', 'Long']\n",
    ")\n",
    "\n",
    "# Filter for long distance and completed bookings\n",
    "long_completed = bookings_clean[\n",
    "    (bookings_clean['duration_cat'] == 'Long') &\n",
    "    (bookings_clean['booking_complete'] == 1)\n",
    "]\n",
    "\n",
    "pct_premium = long_completed['premium_customer'].mean() * 100\n",
    "print(f\"{pct_premium:.2f}%\")"
   ],
   "outputs": [
    {
     "name": "stdout",
     "output_type": "stream",
     "text": [
      "24.73%\n"
     ]
    }
   ],
   "execution_count": 8
  },
  {
   "cell_type": "code",
   "metadata": {
    "ExecuteTime": {
     "end_time": "2025-06-15T14:24:16.434162Z",
     "start_time": "2025-06-15T14:24:16.424709Z"
    }
   },
   "source": [
    "# Top 5 routes\n",
    "top_routes = bookings_clean.groupby('route')['num_passengers'].sum().sort_values(ascending=False).head(5)\n",
    "print(top_routes)"
   ],
   "outputs": [
    {
     "name": "stdout",
     "output_type": "stream",
     "text": [
      "route\n",
      "AKLKUL    4450\n",
      "PENTPE    1566\n",
      "DMKKIX    1428\n",
      "ICNSIN    1335\n",
      "MELSGN    1230\n",
      "Name: num_passengers, dtype: int64\n"
     ]
    }
   ],
   "execution_count": 9
  },
  {
   "cell_type": "code",
   "metadata": {
    "ExecuteTime": {
     "end_time": "2025-06-15T14:24:22.622058Z",
     "start_time": "2025-06-15T14:24:22.614624Z"
    }
   },
   "source": [
    "# Flight duration\n",
    "avg_duration_country = bookings_clean.groupby('booking_origin')['flight_duration'].mean()\n",
    "print(avg_duration_country)"
   ],
   "outputs": [
    {
     "name": "stdout",
     "output_type": "stream",
     "text": [
      "booking_origin\n",
      "(not set)               6.649762\n",
      "Afghanistan             4.750000\n",
      "Algeria                 6.620000\n",
      "Argentina               7.576667\n",
      "Australia               7.968687\n",
      "                          ...   \n",
      "United Arab Emirates    7.699048\n",
      "United Kingdom          7.450809\n",
      "United States           6.883487\n",
      "Vanuatu                 8.580000\n",
      "Vietnam                 7.993789\n",
      "Name: flight_duration, Length: 104, dtype: float64\n"
     ]
    }
   ],
   "execution_count": 10
  }
 ],
 "metadata": {
  "kernelspec": {
   "display_name": "Python 3",
   "language": "python",
   "name": "python3"
  },
  "language_info": {
   "codemirror_mode": {
    "name": "ipython",
    "version": 3
   },
   "file_extension": ".py",
   "mimetype": "text/x-python",
   "name": "python",
   "nbconvert_exporter": "python",
   "pygments_lexer": "ipython3",
   "version": "3.12.0"
  }
 },
 "nbformat": 4,
 "nbformat_minor": 2
}
